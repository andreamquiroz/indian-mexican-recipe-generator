{
 "cells": [
  {
   "cell_type": "markdown",
   "id": "93c687b0",
   "metadata": {},
   "source": [
    "## Load data"
   ]
  },
  {
   "cell_type": "code",
   "execution_count": 2,
   "id": "75688208",
   "metadata": {},
   "outputs": [],
   "source": [
    "import json\n",
    "import pandas as pd"
   ]
  },
  {
   "cell_type": "code",
   "execution_count": null,
   "id": "94f335a3",
   "metadata": {},
   "outputs": [
    {
     "name": "stdout",
     "output_type": "stream",
     "text": [
      "Loaded 3000 recipes.\n"
     ]
    }
   ],
   "source": [
    "# Load dataset\n",
    "with open('./filtered_recipes/combined_fusion_dataset.json', 'r', encoding='utf-8') as f:\n",
    "    raw_data = json.load(f)\n",
    "\n",
    "print(f\"Loaded {len(raw_data)} recipes.\")\n",
    "\n",
    "# Convert to training-style plain text format\n",
    "def format_recipe(recipe):\n",
    "    title = recipe.get('title', '').strip().replace('\\n', ' ')\n",
    "    cuisine = recipe.get('cuisine', 'Unknown').strip().title()\n",
    "\n",
    "    # Convert stringified JSON list to real list\n",
    "    ingredients_raw = recipe.get('ingredients', [])\n",
    "    if isinstance(ingredients_raw, str):\n",
    "        try:\n",
    "            ingredients_list = json.loads(ingredients_raw)\n",
    "        except json.JSONDecodeError:\n",
    "            ingredients_list = [ingredients_raw]\n",
    "    else:\n",
    "        ingredients_list = ingredients_raw\n",
    "\n",
    "    ingredients = \"\\n\".join(f\"- {item.strip()}\" for item in ingredients_list)\n",
    "\n",
    "    instructions_raw = recipe.get('instructions', [])\n",
    "    if isinstance(instructions_raw, str):\n",
    "        try:\n",
    "            instructions_list = json.loads(instructions_raw)\n",
    "        except json.JSONDecodeError:\n",
    "            instructions_list = [instructions_raw]\n",
    "    else:\n",
    "        instructions_list = instructions_raw\n",
    "\n",
    "    instructions = \"\\n\".join(step.strip() for step in instructions_list)\n",
    "\n",
    "    return f\"Title: {title}\\nIngredients:\\n{ingredients}\\nInstructions:\\n{instructions}\\n\\n\"\n",
    "\n",
    "\n",
    "\n",
    "formatted_recipes = [format_recipe(r) for r in raw_data]\n",
    "\n",
    "# Save for HuggingFace `datasets` loader\n",
    "with open('recipes.txt', 'w', encoding='utf-8') as f:\n",
    "    f.writelines(formatted_recipes)\n"
   ]
  },
  {
   "cell_type": "code",
   "execution_count": 7,
   "id": "1c31dc53",
   "metadata": {},
   "outputs": [],
   "source": [
    "def format_recipe(recipe):\n",
    "    title = recipe.get('title', '').strip().replace('\\n', ' ')\n",
    "    ingredients_raw = recipe.get('ingredients', [])\n",
    "    if isinstance(ingredients_raw, str):\n",
    "        try:\n",
    "            ingredients_list = json.loads(ingredients_raw)\n",
    "        except json.JSONDecodeError:\n",
    "            ingredients_list = [ingredients_raw]\n",
    "    else:\n",
    "        ingredients_list = ingredients_raw\n",
    "\n",
    "    ingredients = \"\\n\".join(f\"- {item.strip()}\" for item in ingredients_list)\n",
    "\n",
    "    instructions_raw = recipe.get('instructions', [])\n",
    "    if isinstance(instructions_raw, str):\n",
    "        try:\n",
    "            instructions_list = json.loads(instructions_raw)\n",
    "        except json.JSONDecodeError:\n",
    "            instructions_list = [instructions_raw]\n",
    "    else:\n",
    "        instructions_list = instructions_raw\n",
    "\n",
    "    instructions = \"\\n\".join(step.strip() for step in instructions_list)\n",
    "\n",
    "    return f\"Title: {title}\\nIngredients:\\n{ingredients}\\nInstructions:\\n{instructions}\\n\\n\"\n",
    "\n",
    "\n",
    "def prepare_dataset(tokenizer, file_path, block_size=512):\n",
    "    with open(file_path, 'r', encoding='utf-8') as f:\n",
    "        raw_data = json.load(f)\n",
    "\n",
    "    formatted = [format_recipe(r) for r in raw_data]\n",
    "\n",
    "\n",
    "    return formatted"
   ]
  },
  {
   "cell_type": "code",
   "execution_count": 11,
   "id": "70dec42e",
   "metadata": {},
   "outputs": [],
   "source": [
    "ds = prepare_dataset(None, 'filtered_recipes/combined_fusion_dataset.json', block_size=512)"
   ]
  },
  {
   "cell_type": "code",
   "execution_count": 12,
   "id": "6c901e58",
   "metadata": {},
   "outputs": [
    {
     "data": {
      "text/plain": [
       "'Title: Taco Salad Chip Dip\\nIngredients:\\n- 8 oz. Ortega taco sauce\\n- 8 oz. sour cream\\n- 8 oz. cream cheese\\n- 1 lb. ground beef\\n- 1 pkg. taco seasoning\\n- shredded lettuce\\n- 1 large diced tomato\\n- 1 medium diced onion\\n- 1 large diced green pepper\\n- shredded Colby or Cheddar cheese\\nInstructions:\\nMix taco sauce, sour cream and cream cheese.\\nSpread on pizza pan.\\nBrown meat.\\nDrain off fat and add taco seasoning.\\nSpread over cream mixture.\\nLayer with raw vegetables.\\nTop with cheese. Serve with chips.\\n\\n'"
      ]
     },
     "execution_count": 12,
     "metadata": {},
     "output_type": "execute_result"
    }
   ],
   "source": [
    "ds[0]"
   ]
  },
  {
   "cell_type": "code",
   "execution_count": null,
   "id": "6ac88bee",
   "metadata": {},
   "outputs": [],
   "source": []
  }
 ],
 "metadata": {
  "kernelspec": {
   "display_name": "base",
   "language": "python",
   "name": "python3"
  },
  "language_info": {
   "codemirror_mode": {
    "name": "ipython",
    "version": 3
   },
   "file_extension": ".py",
   "mimetype": "text/x-python",
   "name": "python",
   "nbconvert_exporter": "python",
   "pygments_lexer": "ipython3",
   "version": "3.11.8"
  }
 },
 "nbformat": 4,
 "nbformat_minor": 5
}
