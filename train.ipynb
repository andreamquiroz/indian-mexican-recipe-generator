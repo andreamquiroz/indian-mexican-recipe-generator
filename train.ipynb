{
 "cells": [
  {
   "cell_type": "markdown",
   "id": "93c687b0",
   "metadata": {},
   "source": [
    "## Load data"
   ]
  },
  {
   "cell_type": "code",
   "execution_count": 2,
   "id": "75688208",
   "metadata": {},
   "outputs": [],
   "source": [
    "import json\n",
    "import pandas as pd"
   ]
  },
  {
   "cell_type": "code",
   "execution_count": 4,
   "id": "94f335a3",
   "metadata": {},
   "outputs": [
    {
     "name": "stdout",
     "output_type": "stream",
     "text": [
      "Loaded 3000 recipes.\n"
     ]
    }
   ],
   "source": [
    "# Load dataset\n",
    "with open('./filtered_recipes/combined_fusion_dataset.json', 'r', encoding='utf-8') as f:\n",
    "    raw_data = json.load(f)\n",
    "\n",
    "print(f\"Loaded {len(raw_data)} recipes.\")\n",
    "\n",
    "# Convert to training-style plain text format\n",
    "def format_recipe(recipe):\n",
    "    title = recipe['title'].strip().replace('\\n', ' ')\n",
    "    cuisine = recipe.get('cuisine', 'unknown').strip().title()\n",
    "\n",
    "    ingredients = recipe['ingredients']\n",
    "    if isinstance(ingredients, list):\n",
    "        ingredients = \"\\n\".join(ingredients)\n",
    "    ingredients = ingredients.strip().replace('\\n', '\\n- ')\n",
    "\n",
    "    instructions = recipe['instructions']\n",
    "    if isinstance(instructions, list):\n",
    "        instructions = \"\\n\".join(instructions)\n",
    "    instructions = instructions.strip().replace('\\n', '\\n')\n",
    "\n",
    "    return f\"Cuisine: {cuisine}\\nTitle: {title}\\nIngredients:\\n- {ingredients}\\nInstructions:\\n{instructions}\\n\\n\"\n",
    "\n",
    "\n",
    "formatted_recipes = [format_recipe(r) for r in raw_data]\n",
    "\n",
    "# Save for HuggingFace `datasets` loader\n",
    "with open('recipes.txt', 'w', encoding='utf-8') as f:\n",
    "    f.writelines(formatted_recipes)\n"
   ]
  },
  {
   "cell_type": "code",
   "execution_count": null,
   "id": "54b600f6",
   "metadata": {},
   "outputs": [],
   "source": []
  }
 ],
 "metadata": {
  "kernelspec": {
   "display_name": "base",
   "language": "python",
   "name": "python3"
  },
  "language_info": {
   "codemirror_mode": {
    "name": "ipython",
    "version": 3
   },
   "file_extension": ".py",
   "mimetype": "text/x-python",
   "name": "python",
   "nbconvert_exporter": "python",
   "pygments_lexer": "ipython3",
   "version": "3.11.8"
  }
 },
 "nbformat": 4,
 "nbformat_minor": 5
}
