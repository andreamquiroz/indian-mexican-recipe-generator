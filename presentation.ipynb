{
 "cells": [
  {
   "cell_type": "markdown",
   "id": "b8ccbe2e",
   "metadata": {},
   "source": [
    "# Recipe Fusion Generator"
   ]
  },
  {
   "cell_type": "markdown",
   "id": "01d9284b",
   "metadata": {},
   "source": [
    "## By: Andrea Quiroz & Peeyush Patel"
   ]
  },
  {
   "cell_type": "markdown",
   "id": "b98c84ca",
   "metadata": {},
   "source": [
    "### In this project we used RecipieNLG dataset and GPT2LMHeadModel. We searched and filtered recipies that we deemed as Mexican, Indian or Honduran and extracted that data from the dataset. Then we utilised GPUs from runpod.io to finetune the GPT2 model in tranformers. We utilised this finetuned model to create our Recipie fusion generator"
   ]
  },
  {
   "cell_type": "code",
   "execution_count": 2,
   "id": "bd2c1452",
   "metadata": {},
   "outputs": [],
   "source": [
    "from fusion_func import *"
   ]
  },
  {
   "cell_type": "markdown",
   "id": "a983deba",
   "metadata": {},
   "source": [
    "### We use the function generate_recipe which takes in input of a recipe name like Chicken Tikka Tacos and returns the ingredient list as well as the cooking instructions"
   ]
  },
  {
   "cell_type": "code",
   "execution_count": null,
   "id": "68d37d21",
   "metadata": {},
   "outputs": [],
   "source": [
    "generate_recipe(\"Chicken Tikka Tacos\")"
   ]
  }
 ],
 "metadata": {
  "kernelspec": {
   "display_name": "base",
   "language": "python",
   "name": "python3"
  },
  "language_info": {
   "codemirror_mode": {
    "name": "ipython",
    "version": 3
   },
   "file_extension": ".py",
   "mimetype": "text/x-python",
   "name": "python",
   "nbconvert_exporter": "python",
   "pygments_lexer": "ipython3",
   "version": "3.11.8"
  }
 },
 "nbformat": 4,
 "nbformat_minor": 5
}
